{
 "cells": [
  {
   "cell_type": "markdown",
   "metadata": {},
   "source": [
    "import libraries"
   ]
  },
  {
   "cell_type": "code",
   "execution_count": 1,
   "metadata": {},
   "outputs": [],
   "source": [
    "import cv2\n",
    "import numpy as np\n",
    "import matplotlib.pyplot as plt"
   ]
  },
  {
   "cell_type": "markdown",
   "metadata": {},
   "source": [
    "read template and scanned image"
   ]
  },
  {
   "cell_type": "code",
   "execution_count": null,
   "metadata": {},
   "outputs": [],
   "source": [
    "#reference image\n",
    "refFilename = \"form.jpg\"\n",
    "print(\"Reading reference image : \", refFilename)\n",
    "im1 = cv2.imread(refFilename, cv2.IMREAD_COLOR)\n",
    "im1 = cv2.cvtColor(im1, cv2.COLOR_BGR2RGB)\n",
    "\n",
    "#image to be aligned\n",
    "imFilename = \"scanned-image.jpg\"\n",
    "print(\"Reading image to align : \", imFilename)\n",
    "im2 = cv2.imread(imFilename, cv2.IMREAD_COLOR)\n",
    "im2 = cv2.cvtColor(im2, cv2.COLOR_BGR2RGB)\n"
   ]
  },
  {
   "cell_type": "markdown",
   "metadata": {},
   "source": [
    "display images"
   ]
  },
  {
   "cell_type": "code",
   "execution_count": null,
   "metadata": {},
   "outputs": [],
   "source": [
    "plt.figure(figsize=(10,10))\n",
    "plt.subplot(1,2,1); plt.axis('off'); plt.imshow(im1); plt.title('Reference image')\n",
    "plt.subplot(1,2,2); plt.axis('off'); plt.imshow(im2); plt.title('Image to align')"
   ]
  },
  {
   "cell_type": "markdown",
   "metadata": {},
   "source": [
    "find keypoints in both images"
   ]
  },
  {
   "cell_type": "code",
   "execution_count": null,
   "metadata": {},
   "outputs": [],
   "source": [
    "im1_gray = cv2.cvtColor(im1, cv2.COLOR_BGR2GRAY)\n",
    "im2_gray = cv2.cvtColor(im2, cv2.COLOR_BGR2GRAY)\n",
    "\n",
    "#detect orb features and compute descriptors\n",
    "MAX_NUM_FEATURES = 500\n",
    "orb = cv2.ORB_create(MAX_NUM_FEATURES)\n",
    "keypoints1, descriptors1 = orb.detectAndCompute(im1_gray, None)\n",
    "keypoints2, descriptors2 = orb.detectAndCompute(im2_gray, None)\n",
    "\n",
    "#display\n",
    "im1_display = cv2.drawKeypoints(im1, keypoints1, outImage = np.array([]), color = (0,255,0), flags = cv2.DRAW_MATCHES_FLAGS_DRAW_RICH_KEYPOINTS)\n",
    "im2_display = cv2.drawKeypoints(im2, keypoints2, outImage = np.array([]), color = (0,255,0), flags = cv2.DRAW_MATCHES_FLAGS_DRAW_RICH_KEYPOINTS)"
   ]
  },
  {
   "cell_type": "code",
   "execution_count": null,
   "metadata": {},
   "outputs": [],
   "source": [
    "plt.figure(figsize=(20,10))\n",
    "plt.subplot (1,2,1); plt.axis('off'); plt.imshow(im1_display); plt.title('Reference image')\n",
    "plt.subplot (1,2,2); plt.axis('off'); plt.imshow(im2_display); plt.title('Image to align')"
   ]
  },
  {
   "cell_type": "markdown",
   "metadata": {},
   "source": [
    "match keypoints in the two images"
   ]
  },
  {
   "cell_type": "code",
   "execution_count": null,
   "metadata": {},
   "outputs": [],
   "source": [
    "#match \n",
    "matcher = cv2.DescriptorMatcher_create(cv2.DESCRIPTOR_MATCHER_BRUTEFORCE_HAMMING)\n",
    "matches = matcher.match(descriptors1, descriptors2, None)\n",
    "\n",
    "#sort matches by score\n",
    "matches.sort(key = lambda x: x.distance, reverse=False)\n",
    "\n",
    "#remove not so good matches\n",
    "numGoodMatches = int(len(matches)*0.1)\n",
    "matches = matches[:numGoodMatches]"
   ]
  },
  {
   "cell_type": "code",
   "execution_count": null,
   "metadata": {},
   "outputs": [],
   "source": [
    "im_matches = cv2.drawMatches(im1, keypoints1, im2, keypoints2, matches, None)\n",
    "plt.figure(figsize=(40,10))\n",
    "plt.imshow(im_matches); plt.axis('off'); plt.title('original form')"
   ]
  },
  {
   "cell_type": "markdown",
   "metadata": {},
   "source": [
    "find homography"
   ]
  },
  {
   "cell_type": "code",
   "execution_count": null,
   "metadata": {},
   "outputs": [],
   "source": [
    "points1 = np.zeros((len(matches), 2), dtype=np.float32)\n",
    "points2 = np.zeros((len(matches), 2), dtype=np.float32)\n",
    "\n",
    "for i, match in enumerate(matches):\n",
    "    points1[i, :] = keypoints1[match.queryIdx].pt\n",
    "    points2[i, :] = keypoints2[match.trainIdx].pt\n",
    "\n",
    "#find homography\n",
    "h, mask = cv2.findHomography(points1, points2, cv2.RANSAC)"
   ]
  },
  {
   "cell_type": "markdown",
   "metadata": {},
   "source": [
    "warp image"
   ]
  },
  {
   "cell_type": "code",
   "execution_count": null,
   "metadata": {},
   "outputs": [],
   "source": [
    "height, weight, channels = im1.shape\n",
    "im2_registered = cv2.warpPerspective(im2, h, (weight, height))\n",
    "\n",
    "#display results\n",
    "plt.figure(figsize=(20,10))\n",
    "plt.subplot (1,2,1); plt.axis('off'); plt.imshow(im1); plt.title('Reference image')\n",
    "plt.subplot (1,2,2); plt.axis('off'); plt.imshow(im2_registered); plt.title('Registered image')\n"
   ]
  }
 ],
 "metadata": {
  "kernelspec": {
   "display_name": "compvis",
   "language": "python",
   "name": "python3"
  },
  "language_info": {
   "codemirror_mode": {
    "name": "ipython",
    "version": 3
   },
   "file_extension": ".py",
   "mimetype": "text/x-python",
   "name": "python",
   "nbconvert_exporter": "python",
   "pygments_lexer": "ipython3",
   "version": "3.10.13"
  }
 },
 "nbformat": 4,
 "nbformat_minor": 2
}
